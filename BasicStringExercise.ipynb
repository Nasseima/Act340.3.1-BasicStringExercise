{
  "nbformat": 4,
  "nbformat_minor": 0,
  "metadata": {
    "colab": {
      "provenance": [],
      "authorship_tag": "ABX9TyOYhgMSMhC1W6n/b+c7UYBJ",
      "include_colab_link": true
    },
    "kernelspec": {
      "name": "python3",
      "display_name": "Python 3"
    },
    "language_info": {
      "name": "python"
    }
  },
  "cells": [
    {
      "cell_type": "markdown",
      "metadata": {
        "id": "view-in-github",
        "colab_type": "text"
      },
      "source": [
        "<a href=\"https://colab.research.google.com/github/Nasseima/Act340.3.1-BasicStringExercise/blob/main/BasicStringExercise.ipynb\" target=\"_parent\"><img src=\"https://colab.research.google.com/assets/colab-badge.svg\" alt=\"Open In Colab\"/></a>"
      ]
    },
    {
      "cell_type": "code",
      "execution_count": 1,
      "metadata": {
        "id": "aZRHpzMJYZdD"
      },
      "outputs": [],
      "source": [
        "string1 = \"this is a python string\"\n",
        "string2 = 'This is also a python string'"
      ]
    },
    {
      "cell_type": "code",
      "source": [
        "string3 = \"I told my frind, 'Python is my favorite programming language!'\""
      ],
      "metadata": {
        "id": "gaHtbw4FYnxH"
      },
      "execution_count": 3,
      "outputs": []
    },
    {
      "cell_type": "code",
      "source": [
        "name = 'sammi'\n",
        "print(name.title())\n",
        "print(name)"
      ],
      "metadata": {
        "colab": {
          "base_uri": "https://localhost:8080/"
        },
        "id": "atgJW1wNYwk4",
        "outputId": "236d84df-ad23-4296-ece7-dc2664f178a9"
      },
      "execution_count": 2,
      "outputs": [
        {
          "output_type": "stream",
          "name": "stdout",
          "text": [
            "Sammi\n",
            "sammi\n"
          ]
        }
      ]
    },
    {
      "cell_type": "code",
      "source": [
        "stringy = \"Everything is an Object in Python!!!\"\n",
        "print(stringy)\n",
        "print(stringy.upper())\n",
        "print(stringy.lower())\n",
        "print(stringy.capitalize())"
      ],
      "metadata": {
        "colab": {
          "base_uri": "https://localhost:8080/"
        },
        "id": "OTEecIekY5us",
        "outputId": "a40733de-193f-460a-db32-b716a12c62f1"
      },
      "execution_count": 4,
      "outputs": [
        {
          "output_type": "stream",
          "name": "stdout",
          "text": [
            "Everything is an Object in Python!!!\n",
            "EVERYTHING IS AN OBJECT IN PYTHON!!!\n",
            "everything is an object in python!!!\n",
            "Everything is an object in python!!!\n"
          ]
        }
      ]
    },
    {
      "cell_type": "code",
      "source": [
        "first_name = \"john\"\n",
        "last_name = \"doe\"\n",
        "full_name = f\"{first_name} {last_name}\"\n",
        "\n",
        "print(full_name)"
      ],
      "metadata": {
        "colab": {
          "base_uri": "https://localhost:8080/"
        },
        "id": "g3mfWFIUZPvU",
        "outputId": "83d5b398-7095-41e4-947e-411d0574724e"
      },
      "execution_count": 7,
      "outputs": [
        {
          "output_type": "stream",
          "name": "stdout",
          "text": [
            "john doe\n"
          ]
        }
      ]
    },
    {
      "cell_type": "code",
      "source": [
        "print(f\"Hello, {full_name.title()}\")"
      ],
      "metadata": {
        "colab": {
          "base_uri": "https://localhost:8080/"
        },
        "id": "eWtGHeOYZnXS",
        "outputId": "62646ac5-d5ca-4696-d0ee-4e913d8aeaf2"
      },
      "execution_count": 8,
      "outputs": [
        {
          "output_type": "stream",
          "name": "stdout",
          "text": [
            "Hello, John Doe\n"
          ]
        }
      ]
    },
    {
      "cell_type": "code",
      "source": [
        "phrase = \" reindeer games \"\n",
        "\n",
        "print(phrase.rstrip())\n",
        "print(phrase.lstrip())\n",
        "print(phrase.strip())"
      ],
      "metadata": {
        "colab": {
          "base_uri": "https://localhost:8080/"
        },
        "id": "izXKlDAsZy89",
        "outputId": "4fd4ff0e-4b2c-4f49-9d04-ff1c3c99763f"
      },
      "execution_count": 9,
      "outputs": [
        {
          "output_type": "stream",
          "name": "stdout",
          "text": [
            " reindeer games\n",
            "reindeer games \n",
            "reindeer games\n"
          ]
        }
      ]
    },
    {
      "cell_type": "code",
      "source": [
        "Famous = \"Valerie\"\n",
        "\n",
        "Quote = \"Patience, young grasshopper\"\n",
        "\n",
        "print(f'{Famous} once said, \"{Quote}.\"')\n",
        "print(\"{} once said, '{}.'\".format(Famous, Quote))"
      ],
      "metadata": {
        "colab": {
          "base_uri": "https://localhost:8080/"
        },
        "id": "8sp8AGbJaaz-",
        "outputId": "a49b5055-e58d-4c95-9814-5013a6cf2a22"
      },
      "execution_count": 11,
      "outputs": [
        {
          "output_type": "stream",
          "name": "stdout",
          "text": [
            "Valerie once said, \"Patience, young grasshopper.\"\n",
            "Valerie once said, 'Patience, young grasshopper.'\n"
          ]
        }
      ]
    },
    {
      "cell_type": "code",
      "source": [
        "course = \"Per Scholas\"\n",
        "\n",
        "print(course[1])\n",
        "print(course[3])\n",
        "print(course[-5])"
      ],
      "metadata": {
        "colab": {
          "base_uri": "https://localhost:8080/"
        },
        "id": "KcC201lebRj6",
        "outputId": "0cd3763c-4767-4325-c7ce-e72c327e5e14"
      },
      "execution_count": 12,
      "outputs": [
        {
          "output_type": "stream",
          "name": "stdout",
          "text": [
            "e\n",
            " \n",
            "h\n"
          ]
        }
      ]
    },
    {
      "cell_type": "code",
      "source": [
        "string1 = \"Slicing strings is easy!\"\n",
        "\n",
        "print(string1[:3])\n",
        "print(string1[1: 6: 2])\n",
        "print(string1[-1: -8: -2])\n",
        "print(string1[: : -1])"
      ],
      "metadata": {
        "colab": {
          "base_uri": "https://localhost:8080/"
        },
        "id": "y-GoTCvXbrj_",
        "outputId": "c3758ab6-53ab-4625-9cf1-5d844c50a319"
      },
      "execution_count": 13,
      "outputs": [
        {
          "output_type": "stream",
          "name": "stdout",
          "text": [
            "Sli\n",
            "lcn\n",
            "!ses\n",
            "!ysae si sgnirts gnicilS\n"
          ]
        }
      ]
    },
    {
      "cell_type": "code",
      "source": [
        "## Problem 3\n",
        "string = \"Hello Wo$ld\"\n",
        "\n",
        "# Reverse the entire string\n",
        "reverse_str = string[::-1]\n",
        "print(\"Reverse String: \", reverse_str)\n",
        "\n",
        "# Get the last character of the string\n",
        "print(\"Last character: \",string[10])\n",
        "\n",
        "# Get every other character in the string\n",
        "print(\"Every other character: \", string[::2])\n",
        "\n",
        "# Get the 4th character of the string\n",
        "print(\"4th character: \",string[3])\n",
        "\n",
        "# Get the 4th through the 9th character of the string\n",
        "print(\"4th through 9th character: \",string[4:10])"
      ],
      "metadata": {
        "colab": {
          "base_uri": "https://localhost:8080/"
        },
        "id": "D0VY0tHScW0B",
        "outputId": "0e0bb91f-f3b2-473d-8227-687e99fb09b9"
      },
      "execution_count": 31,
      "outputs": [
        {
          "output_type": "stream",
          "name": "stdout",
          "text": [
            "Reverse String:  dl$oW olleH\n",
            "Last character:  d\n",
            "Every other character:  HloW$d\n",
            "4th character:  l\n",
            "4th through 9th character:  o Wo$l\n"
          ]
        }
      ]
    }
  ]
}